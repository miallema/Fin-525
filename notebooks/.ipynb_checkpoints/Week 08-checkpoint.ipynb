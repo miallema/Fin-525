{
 "cells": [
  {
   "cell_type": "code",
   "execution_count": 28,
   "metadata": {},
   "outputs": [],
   "source": [
    "import pandas as pd\n",
    "import numpy as np\n",
    "import matplotlib.pyplot as plt\n",
    "%matplotlib inline"
   ]
  },
  {
   "cell_type": "code",
   "execution_count": 2,
   "metadata": {},
   "outputs": [],
   "source": [
    "us = pd.read_csv('../data/us_equities_cleaned.csv')"
   ]
  },
  {
   "cell_type": "code",
   "execution_count": 3,
   "metadata": {},
   "outputs": [
    {
     "data": {
      "text/html": [
       "<div>\n",
       "<style scoped>\n",
       "    .dataframe tbody tr th:only-of-type {\n",
       "        vertical-align: middle;\n",
       "    }\n",
       "\n",
       "    .dataframe tbody tr th {\n",
       "        vertical-align: top;\n",
       "    }\n",
       "\n",
       "    .dataframe thead th {\n",
       "        text-align: right;\n",
       "    }\n",
       "</style>\n",
       "<table border=\"1\" class=\"dataframe\">\n",
       "  <thead>\n",
       "    <tr style=\"text-align: right;\">\n",
       "      <th></th>\n",
       "      <th>Unnamed: 0</th>\n",
       "      <th>^GSPC</th>\n",
       "      <th>GE</th>\n",
       "      <th>IBM</th>\n",
       "      <th>DIS</th>\n",
       "      <th>BA</th>\n",
       "      <th>CAT</th>\n",
       "      <th>AA</th>\n",
       "      <th>HPQ</th>\n",
       "      <th>DD</th>\n",
       "      <th>...</th>\n",
       "      <th>NSM</th>\n",
       "      <th>CLP</th>\n",
       "      <th>CTX</th>\n",
       "      <th>CTR</th>\n",
       "      <th>DYN</th>\n",
       "      <th>AIB</th>\n",
       "      <th>KIM</th>\n",
       "      <th>SFN</th>\n",
       "      <th>TCO</th>\n",
       "      <th>S</th>\n",
       "    </tr>\n",
       "  </thead>\n",
       "  <tbody>\n",
       "    <tr>\n",
       "      <th>0</th>\n",
       "      <td>8032</td>\n",
       "      <td>122.55</td>\n",
       "      <td>0.47</td>\n",
       "      <td>6.96</td>\n",
       "      <td>0.78</td>\n",
       "      <td>1.62</td>\n",
       "      <td>3.34</td>\n",
       "      <td>1.46</td>\n",
       "      <td>1.37</td>\n",
       "      <td>1.87</td>\n",
       "      <td>...</td>\n",
       "      <td>NaN</td>\n",
       "      <td>NaN</td>\n",
       "      <td>NaN</td>\n",
       "      <td>NaN</td>\n",
       "      <td>NaN</td>\n",
       "      <td>NaN</td>\n",
       "      <td>NaN</td>\n",
       "      <td>NaN</td>\n",
       "      <td>NaN</td>\n",
       "      <td>NaN</td>\n",
       "    </tr>\n",
       "    <tr>\n",
       "      <th>1</th>\n",
       "      <td>8033</td>\n",
       "      <td>122.74</td>\n",
       "      <td>0.47</td>\n",
       "      <td>7.13</td>\n",
       "      <td>0.79</td>\n",
       "      <td>1.68</td>\n",
       "      <td>3.27</td>\n",
       "      <td>1.48</td>\n",
       "      <td>1.38</td>\n",
       "      <td>1.92</td>\n",
       "      <td>...</td>\n",
       "      <td>NaN</td>\n",
       "      <td>NaN</td>\n",
       "      <td>NaN</td>\n",
       "      <td>NaN</td>\n",
       "      <td>NaN</td>\n",
       "      <td>NaN</td>\n",
       "      <td>NaN</td>\n",
       "      <td>NaN</td>\n",
       "      <td>NaN</td>\n",
       "      <td>NaN</td>\n",
       "    </tr>\n",
       "    <tr>\n",
       "      <th>2</th>\n",
       "      <td>8034</td>\n",
       "      <td>120.05</td>\n",
       "      <td>0.47</td>\n",
       "      <td>6.97</td>\n",
       "      <td>0.79</td>\n",
       "      <td>1.63</td>\n",
       "      <td>3.25</td>\n",
       "      <td>1.46</td>\n",
       "      <td>1.34</td>\n",
       "      <td>1.87</td>\n",
       "      <td>...</td>\n",
       "      <td>NaN</td>\n",
       "      <td>NaN</td>\n",
       "      <td>NaN</td>\n",
       "      <td>NaN</td>\n",
       "      <td>NaN</td>\n",
       "      <td>NaN</td>\n",
       "      <td>NaN</td>\n",
       "      <td>NaN</td>\n",
       "      <td>NaN</td>\n",
       "      <td>NaN</td>\n",
       "    </tr>\n",
       "    <tr>\n",
       "      <th>3</th>\n",
       "      <td>8035</td>\n",
       "      <td>119.18</td>\n",
       "      <td>0.46</td>\n",
       "      <td>6.94</td>\n",
       "      <td>0.78</td>\n",
       "      <td>1.63</td>\n",
       "      <td>3.24</td>\n",
       "      <td>1.45</td>\n",
       "      <td>1.32</td>\n",
       "      <td>1.86</td>\n",
       "      <td>...</td>\n",
       "      <td>NaN</td>\n",
       "      <td>NaN</td>\n",
       "      <td>NaN</td>\n",
       "      <td>NaN</td>\n",
       "      <td>NaN</td>\n",
       "      <td>NaN</td>\n",
       "      <td>NaN</td>\n",
       "      <td>NaN</td>\n",
       "      <td>NaN</td>\n",
       "      <td>NaN</td>\n",
       "    </tr>\n",
       "    <tr>\n",
       "      <th>4</th>\n",
       "      <td>8036</td>\n",
       "      <td>118.93</td>\n",
       "      <td>0.47</td>\n",
       "      <td>6.94</td>\n",
       "      <td>0.77</td>\n",
       "      <td>1.61</td>\n",
       "      <td>3.26</td>\n",
       "      <td>1.44</td>\n",
       "      <td>1.36</td>\n",
       "      <td>1.85</td>\n",
       "      <td>...</td>\n",
       "      <td>NaN</td>\n",
       "      <td>NaN</td>\n",
       "      <td>NaN</td>\n",
       "      <td>NaN</td>\n",
       "      <td>NaN</td>\n",
       "      <td>NaN</td>\n",
       "      <td>NaN</td>\n",
       "      <td>NaN</td>\n",
       "      <td>NaN</td>\n",
       "      <td>NaN</td>\n",
       "    </tr>\n",
       "  </tbody>\n",
       "</table>\n",
       "<p>5 rows × 1013 columns</p>\n",
       "</div>"
      ],
      "text/plain": [
       "   Unnamed: 0   ^GSPC    GE   IBM   DIS    BA   CAT    AA   HPQ    DD ...  \\\n",
       "0        8032  122.55  0.47  6.96  0.78  1.62  3.34  1.46  1.37  1.87 ...   \n",
       "1        8033  122.74  0.47  7.13  0.79  1.68  3.27  1.48  1.38  1.92 ...   \n",
       "2        8034  120.05  0.47  6.97  0.79  1.63  3.25  1.46  1.34  1.87 ...   \n",
       "3        8035  119.18  0.46  6.94  0.78  1.63  3.24  1.45  1.32  1.86 ...   \n",
       "4        8036  118.93  0.47  6.94  0.77  1.61  3.26  1.44  1.36  1.85 ...   \n",
       "\n",
       "   NSM  CLP  CTX  CTR  DYN  AIB  KIM  SFN  TCO   S  \n",
       "0  NaN  NaN  NaN  NaN  NaN  NaN  NaN  NaN  NaN NaN  \n",
       "1  NaN  NaN  NaN  NaN  NaN  NaN  NaN  NaN  NaN NaN  \n",
       "2  NaN  NaN  NaN  NaN  NaN  NaN  NaN  NaN  NaN NaN  \n",
       "3  NaN  NaN  NaN  NaN  NaN  NaN  NaN  NaN  NaN NaN  \n",
       "4  NaN  NaN  NaN  NaN  NaN  NaN  NaN  NaN  NaN NaN  \n",
       "\n",
       "[5 rows x 1013 columns]"
      ]
     },
     "execution_count": 3,
     "metadata": {},
     "output_type": "execute_result"
    }
   ],
   "source": [
    "us.head()"
   ]
  },
  {
   "cell_type": "code",
   "execution_count": 122,
   "metadata": {},
   "outputs": [],
   "source": [
    "clipped_us = us.iloc[:2000,2:22]"
   ]
  },
  {
   "cell_type": "code",
   "execution_count": 123,
   "metadata": {},
   "outputs": [],
   "source": [
    "correl_m = clipped_us.corr()"
   ]
  },
  {
   "cell_type": "code",
   "execution_count": 124,
   "metadata": {},
   "outputs": [],
   "source": [
    "eigenvalues, eigenvectors = np.linalg.eig(correl_m)\n",
    "eigenvalues_old = eigenvalues.copy()"
   ]
  },
  {
   "cell_type": "code",
   "execution_count": 125,
   "metadata": {},
   "outputs": [],
   "source": [
    "q = 20/2000"
   ]
  },
  {
   "cell_type": "code",
   "execution_count": 126,
   "metadata": {},
   "outputs": [],
   "source": [
    "lambda_p = 1 + q + 2*np.sqrt(q)"
   ]
  },
  {
   "cell_type": "code",
   "execution_count": 127,
   "metadata": {},
   "outputs": [],
   "source": [
    "lambda_m = 1 + q - 2*np.sqrt(q)"
   ]
  },
  {
   "cell_type": "code",
   "execution_count": 128,
   "metadata": {},
   "outputs": [],
   "source": [
    "n_clip = len(eigenvalues[eigenvalues <= lambda_p])"
   ]
  },
  {
   "cell_type": "code",
   "execution_count": 129,
   "metadata": {},
   "outputs": [],
   "source": [
    "delta = .5"
   ]
  },
  {
   "cell_type": "code",
   "execution_count": 130,
   "metadata": {},
   "outputs": [],
   "source": [
    "eigenvalues[eigenvalues <= lambda_p] = delta"
   ]
  },
  {
   "cell_type": "code",
   "execution_count": 131,
   "metadata": {},
   "outputs": [],
   "source": [
    "delta = (20-eigenvalues[eigenvalues > lambda_p].sum())/n_clip"
   ]
  },
  {
   "cell_type": "code",
   "execution_count": 132,
   "metadata": {},
   "outputs": [],
   "source": [
    "eigenvalues[eigenvalues <= lambda_p] = delta"
   ]
  },
  {
   "cell_type": "code",
   "execution_count": 89,
   "metadata": {},
   "outputs": [],
   "source": [
    "c = np.dot(eigenvectors.T,np.dot(np.diag(eigenvalues),eigenvectors))\n",
    "np.fill_diagonal(c,1)"
   ]
  },
  {
   "cell_type": "code",
   "execution_count": 94,
   "metadata": {},
   "outputs": [],
   "source": [
    "c_df = pd.DataFrame(c,columns = correl_m.columns, index = correl_m.columns)"
   ]
  },
  {
   "cell_type": "code",
   "execution_count": 119,
   "metadata": {},
   "outputs": [
    {
     "data": {
      "text/plain": [
       "[<matplotlib.lines.Line2D at 0x128447898>]"
      ]
     },
     "execution_count": 119,
     "metadata": {},
     "output_type": "execute_result"
    },
    {
     "data": {
      "image/png": "[encoded data removed]",
      "text/plain": [
       "<Figure size 432x288 with 1 Axes>"
      ]
     },
     "metadata": {},
     "output_type": "display_data"
    }
   ],
   "source": [
    "plt.plot(eigenvalues, eigenvalues_c)"
   ]
  },
  {
   "cell_type": "code",
   "execution_count": 120,
   "metadata": {},
   "outputs": [
    {
     "data": {
      "text/plain": [
       "array([17.27856019,  1.3543827 ,  0.15189524,  0.15189524,  0.15189524,\n",
       "        0.15189524,  0.15189524,  0.15189524,  0.15189524,  0.15189524,\n",
       "        0.15189524,  0.15189524,  0.15189524,  0.15189524,  0.15189524,\n",
       "        0.15189524,  0.15189524,  0.15189524,  0.15189524,  0.15189524])"
      ]
     },
     "execution_count": 120,
     "metadata": {},
     "output_type": "execute_result"
    }
   ],
   "source": [
    "eigenvalues"
   ]
  },
  {
   "cell_type": "code",
   "execution_count": 121,
   "metadata": {},
   "outputs": [
    {
     "data": {
      "text/plain": [
       "array([17.27856019,  1.3543827 ,  0.15189524,  0.15189524,  0.15189524,\n",
       "        0.15189524,  0.15189524,  0.15189524,  0.15189524,  0.15189524,\n",
       "        0.15189524,  0.15189524,  0.15189524,  0.15189524,  0.15189524,\n",
       "        0.15189524,  0.15189524,  0.15189524,  0.15189524,  0.15189524])"
      ]
     },
     "execution_count": 121,
     "metadata": {},
     "output_type": "execute_result"
    }
   ],
   "source": [
    "eigenvalues_c"
   ]
  },
  {
   "cell_type": "code",
   "execution_count": null,
   "metadata": {},
   "outputs": [],
   "source": []
  }
 ],
 "metadata": {
  "kernelspec": {
   "display_name": "Python 3",
   "language": "python",
   "name": "python3"
  },
  "language_info": {
   "codemirror_mode": {
    "name": "ipython",
    "version": 3
   },
   "file_extension": ".py",
   "mimetype": "text/x-python",
   "name": "python",
   "nbconvert_exporter": "python",
   "pygments_lexer": "ipython3",
   "version": "3.7.0"
  }
 },
 "nbformat": 4,
 "nbformat_minor": 2
}
