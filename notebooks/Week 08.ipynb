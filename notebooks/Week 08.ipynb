{
 "cells": [
  {
   "cell_type": "code",
   "execution_count": 289,
   "metadata": {},
   "outputs": [],
   "source": [
    "import pandas as pd\n",
    "import numpy as np\n",
    "import matplotlib.pyplot as plt\n",
    "%matplotlib inline"
   ]
  },
  {
   "cell_type": "code",
   "execution_count": 290,
   "metadata": {},
   "outputs": [],
   "source": [
    "us = pd.read_csv('../data/us_equities_cleaned.csv')"
   ]
  },
  {
   "cell_type": "code",
   "execution_count": 291,
   "metadata": {},
   "outputs": [
    {
     "data": {
      "text/html": [
       "<div>\n",
       "<style scoped>\n",
       "    .dataframe tbody tr th:only-of-type {\n",
       "        vertical-align: middle;\n",
       "    }\n",
       "\n",
       "    .dataframe tbody tr th {\n",
       "        vertical-align: top;\n",
       "    }\n",
       "\n",
       "    .dataframe thead th {\n",
       "        text-align: right;\n",
       "    }\n",
       "</style>\n",
       "<table border=\"1\" class=\"dataframe\">\n",
       "  <thead>\n",
       "    <tr style=\"text-align: right;\">\n",
       "      <th></th>\n",
       "      <th>Unnamed: 0</th>\n",
       "      <th>^GSPC</th>\n",
       "      <th>GE</th>\n",
       "      <th>IBM</th>\n",
       "      <th>DIS</th>\n",
       "      <th>BA</th>\n",
       "      <th>CAT</th>\n",
       "      <th>AA</th>\n",
       "      <th>HPQ</th>\n",
       "      <th>DD</th>\n",
       "      <th>...</th>\n",
       "      <th>NSM</th>\n",
       "      <th>CLP</th>\n",
       "      <th>CTX</th>\n",
       "      <th>CTR</th>\n",
       "      <th>DYN</th>\n",
       "      <th>AIB</th>\n",
       "      <th>KIM</th>\n",
       "      <th>SFN</th>\n",
       "      <th>TCO</th>\n",
       "      <th>S</th>\n",
       "    </tr>\n",
       "  </thead>\n",
       "  <tbody>\n",
       "    <tr>\n",
       "      <th>0</th>\n",
       "      <td>8032</td>\n",
       "      <td>122.55</td>\n",
       "      <td>0.47</td>\n",
       "      <td>6.96</td>\n",
       "      <td>0.78</td>\n",
       "      <td>1.62</td>\n",
       "      <td>3.34</td>\n",
       "      <td>1.46</td>\n",
       "      <td>1.37</td>\n",
       "      <td>1.87</td>\n",
       "      <td>...</td>\n",
       "      <td>NaN</td>\n",
       "      <td>NaN</td>\n",
       "      <td>NaN</td>\n",
       "      <td>NaN</td>\n",
       "      <td>NaN</td>\n",
       "      <td>NaN</td>\n",
       "      <td>NaN</td>\n",
       "      <td>NaN</td>\n",
       "      <td>NaN</td>\n",
       "      <td>NaN</td>\n",
       "    </tr>\n",
       "    <tr>\n",
       "      <th>1</th>\n",
       "      <td>8033</td>\n",
       "      <td>122.74</td>\n",
       "      <td>0.47</td>\n",
       "      <td>7.13</td>\n",
       "      <td>0.79</td>\n",
       "      <td>1.68</td>\n",
       "      <td>3.27</td>\n",
       "      <td>1.48</td>\n",
       "      <td>1.38</td>\n",
       "      <td>1.92</td>\n",
       "      <td>...</td>\n",
       "      <td>NaN</td>\n",
       "      <td>NaN</td>\n",
       "      <td>NaN</td>\n",
       "      <td>NaN</td>\n",
       "      <td>NaN</td>\n",
       "      <td>NaN</td>\n",
       "      <td>NaN</td>\n",
       "      <td>NaN</td>\n",
       "      <td>NaN</td>\n",
       "      <td>NaN</td>\n",
       "    </tr>\n",
       "    <tr>\n",
       "      <th>2</th>\n",
       "      <td>8034</td>\n",
       "      <td>120.05</td>\n",
       "      <td>0.47</td>\n",
       "      <td>6.97</td>\n",
       "      <td>0.79</td>\n",
       "      <td>1.63</td>\n",
       "      <td>3.25</td>\n",
       "      <td>1.46</td>\n",
       "      <td>1.34</td>\n",
       "      <td>1.87</td>\n",
       "      <td>...</td>\n",
       "      <td>NaN</td>\n",
       "      <td>NaN</td>\n",
       "      <td>NaN</td>\n",
       "      <td>NaN</td>\n",
       "      <td>NaN</td>\n",
       "      <td>NaN</td>\n",
       "      <td>NaN</td>\n",
       "      <td>NaN</td>\n",
       "      <td>NaN</td>\n",
       "      <td>NaN</td>\n",
       "    </tr>\n",
       "    <tr>\n",
       "      <th>3</th>\n",
       "      <td>8035</td>\n",
       "      <td>119.18</td>\n",
       "      <td>0.46</td>\n",
       "      <td>6.94</td>\n",
       "      <td>0.78</td>\n",
       "      <td>1.63</td>\n",
       "      <td>3.24</td>\n",
       "      <td>1.45</td>\n",
       "      <td>1.32</td>\n",
       "      <td>1.86</td>\n",
       "      <td>...</td>\n",
       "      <td>NaN</td>\n",
       "      <td>NaN</td>\n",
       "      <td>NaN</td>\n",
       "      <td>NaN</td>\n",
       "      <td>NaN</td>\n",
       "      <td>NaN</td>\n",
       "      <td>NaN</td>\n",
       "      <td>NaN</td>\n",
       "      <td>NaN</td>\n",
       "      <td>NaN</td>\n",
       "    </tr>\n",
       "    <tr>\n",
       "      <th>4</th>\n",
       "      <td>8036</td>\n",
       "      <td>118.93</td>\n",
       "      <td>0.47</td>\n",
       "      <td>6.94</td>\n",
       "      <td>0.77</td>\n",
       "      <td>1.61</td>\n",
       "      <td>3.26</td>\n",
       "      <td>1.44</td>\n",
       "      <td>1.36</td>\n",
       "      <td>1.85</td>\n",
       "      <td>...</td>\n",
       "      <td>NaN</td>\n",
       "      <td>NaN</td>\n",
       "      <td>NaN</td>\n",
       "      <td>NaN</td>\n",
       "      <td>NaN</td>\n",
       "      <td>NaN</td>\n",
       "      <td>NaN</td>\n",
       "      <td>NaN</td>\n",
       "      <td>NaN</td>\n",
       "      <td>NaN</td>\n",
       "    </tr>\n",
       "  </tbody>\n",
       "</table>\n",
       "<p>5 rows × 1013 columns</p>\n",
       "</div>"
      ],
      "text/plain": [
       "   Unnamed: 0   ^GSPC    GE   IBM   DIS    BA   CAT    AA   HPQ    DD ...  \\\n",
       "0        8032  122.55  0.47  6.96  0.78  1.62  3.34  1.46  1.37  1.87 ...   \n",
       "1        8033  122.74  0.47  7.13  0.79  1.68  3.27  1.48  1.38  1.92 ...   \n",
       "2        8034  120.05  0.47  6.97  0.79  1.63  3.25  1.46  1.34  1.87 ...   \n",
       "3        8035  119.18  0.46  6.94  0.78  1.63  3.24  1.45  1.32  1.86 ...   \n",
       "4        8036  118.93  0.47  6.94  0.77  1.61  3.26  1.44  1.36  1.85 ...   \n",
       "\n",
       "   NSM  CLP  CTX  CTR  DYN  AIB  KIM  SFN  TCO   S  \n",
       "0  NaN  NaN  NaN  NaN  NaN  NaN  NaN  NaN  NaN NaN  \n",
       "1  NaN  NaN  NaN  NaN  NaN  NaN  NaN  NaN  NaN NaN  \n",
       "2  NaN  NaN  NaN  NaN  NaN  NaN  NaN  NaN  NaN NaN  \n",
       "3  NaN  NaN  NaN  NaN  NaN  NaN  NaN  NaN  NaN NaN  \n",
       "4  NaN  NaN  NaN  NaN  NaN  NaN  NaN  NaN  NaN NaN  \n",
       "\n",
       "[5 rows x 1013 columns]"
      ]
     },
     "execution_count": 291,
     "metadata": {},
     "output_type": "execute_result"
    }
   ],
   "source": [
    "us.head()"
   ]
  },
  {
   "cell_type": "code",
   "execution_count": 292,
   "metadata": {},
   "outputs": [],
   "source": [
    "clipped_us = us.iloc[:2001,2:52]\n",
    "clipped_us_returns = np.log(clipped_us).diff()\n",
    "clipped_us_returns = clipped_us_returns.iloc[1:,]"
   ]
  },
  {
   "cell_type": "code",
   "execution_count": 293,
   "metadata": {},
   "outputs": [],
   "source": [
    "sign = np.sign(clipped_us_returns)"
   ]
  },
  {
   "cell_type": "code",
   "execution_count": 294,
   "metadata": {},
   "outputs": [],
   "source": [
    "correl_m = sign.corr()"
   ]
  },
  {
   "cell_type": "code",
   "execution_count": 295,
   "metadata": {},
   "outputs": [],
   "source": [
    "eigenvalues, eigenvectors = np.linalg.eig(correl_m)\n",
    "eigenvalues_old = eigenvalues.copy()"
   ]
  },
  {
   "cell_type": "code",
   "execution_count": 296,
   "metadata": {},
   "outputs": [],
   "source": [
    "q = len(clipped_us_returns.columns)/len(clipped_us_returns.index)"
   ]
  },
  {
   "cell_type": "code",
   "execution_count": 297,
   "metadata": {},
   "outputs": [],
   "source": [
    "lambda_p = 1 + q + 2*np.sqrt(q)"
   ]
  },
  {
   "cell_type": "code",
   "execution_count": 298,
   "metadata": {},
   "outputs": [],
   "source": [
    "lambda_m = 1 + q - 2*np.sqrt(q)"
   ]
  },
  {
   "cell_type": "code",
   "execution_count": 299,
   "metadata": {},
   "outputs": [],
   "source": [
    "n_clip = len(eigenvalues[eigenvalues <= lambda_p])"
   ]
  },
  {
   "cell_type": "code",
   "execution_count": 300,
   "metadata": {},
   "outputs": [],
   "source": [
    "delta = (20-eigenvalues[eigenvalues > lambda_p].sum())/n_clip"
   ]
  },
  {
   "cell_type": "code",
   "execution_count": 301,
   "metadata": {},
   "outputs": [],
   "source": [
    "eigenvalues[eigenvalues <= lambda_p] = delta"
   ]
  },
  {
   "cell_type": "code",
   "execution_count": 302,
   "metadata": {},
   "outputs": [],
   "source": [
    "c = np.dot(eigenvectors.T,np.dot(np.diag(eigenvalues),eigenvectors))\n",
    "np.fill_diagonal(c,1)"
   ]
  },
  {
   "cell_type": "code",
   "execution_count": 303,
   "metadata": {},
   "outputs": [],
   "source": [
    "c_df = pd.DataFrame(c,columns = correl_m.columns, index = correl_m.columns)"
   ]
  },
  {
   "cell_type": "code",
   "execution_count": 310,
   "metadata": {},
   "outputs": [
    {
     "data": {
      "text/plain": [
       "(array([47.,  0.,  0.,  0.,  0.,  0.,  0.,  0.,  0.,  0.,  0.,  1.,  1.,\n",
       "         0.,  0.,  0.,  0.,  0.,  0.,  0.,  0.,  0.,  0.,  0.,  0.,  0.,\n",
       "         0.,  0.,  0.,  0.,  0.,  0.,  0.,  0.,  0.,  0.,  0.,  0.,  0.,\n",
       "         0.,  0.,  0.,  0.,  0.,  0.,  0.,  0.,  0.,  0.,  0.,  0.,  0.,\n",
       "         0.,  0.,  0.,  0.,  0.,  0.,  0.,  0.,  0.,  0.,  0.,  0.,  0.,\n",
       "         0.,  0.,  0.,  0.,  0.,  0.,  0.,  0.,  0.,  0.,  0.,  0.,  0.,\n",
       "         0.,  0.,  0.,  0.,  0.,  0.,  0.,  0.,  0.,  0.,  0.,  0.,  0.,\n",
       "         0.,  0.,  0.,  0.,  0.,  0.,  0.,  0.,  1.]),\n",
       " array([ 0.10599958,  0.22477902,  0.34355846,  0.4623379 ,  0.58111734,\n",
       "         0.69989679,  0.81867623,  0.93745567,  1.05623511,  1.17501455,\n",
       "         1.29379399,  1.41257344,  1.53135288,  1.65013232,  1.76891176,\n",
       "         1.8876912 ,  2.00647064,  2.12525009,  2.24402953,  2.36280897,\n",
       "         2.48158841,  2.60036785,  2.7191473 ,  2.83792674,  2.95670618,\n",
       "         3.07548562,  3.19426506,  3.3130445 ,  3.43182395,  3.55060339,\n",
       "         3.66938283,  3.78816227,  3.90694171,  4.02572115,  4.1445006 ,\n",
       "         4.26328004,  4.38205948,  4.50083892,  4.61961836,  4.7383978 ,\n",
       "         4.85717725,  4.97595669,  5.09473613,  5.21351557,  5.33229501,\n",
       "         5.45107445,  5.5698539 ,  5.68863334,  5.80741278,  5.92619222,\n",
       "         6.04497166,  6.1637511 ,  6.28253055,  6.40130999,  6.52008943,\n",
       "         6.63886887,  6.75764831,  6.87642776,  6.9952072 ,  7.11398664,\n",
       "         7.23276608,  7.35154552,  7.47032496,  7.58910441,  7.70788385,\n",
       "         7.82666329,  7.94544273,  8.06422217,  8.18300161,  8.30178106,\n",
       "         8.4205605 ,  8.53933994,  8.65811938,  8.77689882,  8.89567826,\n",
       "         9.01445771,  9.13323715,  9.25201659,  9.37079603,  9.48957547,\n",
       "         9.60835491,  9.72713436,  9.8459138 ,  9.96469324, 10.08347268,\n",
       "        10.20225212, 10.32103156, 10.43981101, 10.55859045, 10.67736989,\n",
       "        10.79614933, 10.91492877, 11.03370822, 11.15248766, 11.2712671 ,\n",
       "        11.39004654, 11.50882598, 11.62760542, 11.74638487, 11.86516431,\n",
       "        11.98394375]),\n",
       " <a list of 100 Patch objects>)"
      ]
     },
     "execution_count": 310,
     "metadata": {},
     "output_type": "execute_result"
    },
    {
     "data": {
      "image/png": "[encoded data removed]",
      "text/plain": [
       "<Figure size 432x288 with 1 Axes>"
      ]
     },
     "metadata": {},
     "output_type": "display_data"
    }
   ],
   "source": [
    "plt.hist(eigenvalues,bins =100)"
   ]
  },
  {
   "cell_type": "code",
   "execution_count": null,
   "metadata": {},
   "outputs": [],
   "source": []
  }
 ],
 "metadata": {
  "kernelspec": {
   "display_name": "Python 3",
   "language": "python",
   "name": "python3"
  },
  "language_info": {
   "codemirror_mode": {
    "name": "ipython",
    "version": 3
   },
   "file_extension": ".py",
   "mimetype": "text/x-python",
   "name": "python",
   "nbconvert_exporter": "python",
   "pygments_lexer": "ipython3",
   "version": "3.7.0"
  }
 },
 "nbformat": 4,
 "nbformat_minor": 2
}
