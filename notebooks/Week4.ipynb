{
 "cells": [
  {
   "cell_type": "code",
   "execution_count": 1,
   "metadata": {},
   "outputs": [
    {
     "ename": "ModuleNotFoundError",
     "evalue": "No module named 'requests'",
     "output_type": "error",
     "traceback": [
      "\u001b[0;31m---------------------------------------------------------------------------\u001b[0m",
      "\u001b[0;31mModuleNotFoundError\u001b[0m                       Traceback (most recent call last)",
      "\u001b[0;32m<ipython-input-1-30a4d3c01932>\u001b[0m in \u001b[0;36m<module>\u001b[0;34m()\u001b[0m\n\u001b[1;32m      1\u001b[0m \u001b[0;32mimport\u001b[0m \u001b[0mnumpy\u001b[0m \u001b[0;32mas\u001b[0m \u001b[0mnp\u001b[0m\u001b[0;34m\u001b[0m\u001b[0m\n\u001b[1;32m      2\u001b[0m \u001b[0;32mimport\u001b[0m \u001b[0mpandas\u001b[0m \u001b[0;32mas\u001b[0m \u001b[0mpd\u001b[0m\u001b[0;34m\u001b[0m\u001b[0m\n\u001b[0;32m----> 3\u001b[0;31m \u001b[0;32mimport\u001b[0m \u001b[0mrequests\u001b[0m\u001b[0;34m\u001b[0m\u001b[0m\n\u001b[0m\u001b[1;32m      4\u001b[0m \u001b[0;32mimport\u001b[0m \u001b[0mio\u001b[0m\u001b[0;34m\u001b[0m\u001b[0m\n\u001b[1;32m      5\u001b[0m \u001b[0;32mimport\u001b[0m \u001b[0mzipfile\u001b[0m\u001b[0;34m\u001b[0m\u001b[0m\n",
      "\u001b[0;31mModuleNotFoundError\u001b[0m: No module named 'requests'"
     ]
    }
   ],
   "source": [
    "import numpy as np\n",
    "import pandas as pd\n",
    "import requests\n",
    "import io\n",
    "import zipfile\n",
    "from io import BytesIO\n",
    "myurl='https://www.forexite.com/free_forex_quotes/2011/11/011111.zip'\n",
    "r = requests.get(myurl)\n",
    "z = zipfile.ZipFile(BytesIO(r.content))\n",
    "FX=pd.read_csv(z.open(z.namelist()[0]))\n",
    "#myfile='data/raw/forexite/011111.csv.zip'\n",
    "#open(myfile, 'wb').write(r.content)"
   ]
  },
  {
   "cell_type": "code",
   "execution_count": null,
   "metadata": {},
   "outputs": [],
   "source": [
    "FX.head()"
   ]
  },
  {
   "cell_type": "code",
   "execution_count": null,
   "metadata": {},
   "outputs": [],
   "source": [
    "FX['<TIME>']  = FX['<TIME>'].apply(str).str.zfill(6)\n",
    "FX['<DATETIME>'] = FX[\"<DTYYYYMMDD>\"].map(str) + FX[\"<TIME>\"].map(str)\n",
    "FX['<DATETIME>'] = pd.to_datetime(FX['<DATETIME>'],format = '%Y%m%d%H%M%S')\n",
    "FX = FX.drop(columns = ['<TIME>',\"<DTYYYYMMDD>\"])\n",
    "#FX = FX.set_index('<DATETIME>')"
   ]
  },
  {
   "cell_type": "code",
   "execution_count": null,
   "metadata": {},
   "outputs": [],
   "source": [
    "FX.head()"
   ]
  },
  {
   "cell_type": "code",
   "execution_count": null,
   "metadata": {},
   "outputs": [],
   "source": [
    "import matplotlib.pyplot as plt\n",
    "import seaborn as sns\n",
    "sns.set()\n",
    "FX['<TICKER>'].unique()"
   ]
  },
  {
   "cell_type": "code",
   "execution_count": null,
   "metadata": {},
   "outputs": [],
   "source": [
    "fig = plt.figure(figsize = (20,10))\n",
    "sns.lineplot(x = '<DATETIME>', y = '<CLOSE>', hue = '<TICKER>', data = FX)"
   ]
  },
  {
   "cell_type": "code",
   "execution_count": null,
   "metadata": {},
   "outputs": [],
   "source": [
    "FX['<CLOSE_NORMALIZED>'] = FX[['<CLOSE>','<TICKER>']].groupby('<TICKER>').transform(lambda x: x/x.iloc[0])\n",
    "fig = plt.figure(figsize = (20,10))\n",
    "sns.lineplot(x = '<DATETIME>', y = '<CLOSE_NORMALIZED>', hue = '<TICKER>', data = FX)"
   ]
  },
  {
   "cell_type": "code",
   "execution_count": null,
   "metadata": {},
   "outputs": [],
   "source": [
    "FX['<CLOSE_LOG>'] = FX[['<CLOSE>','<TICKER>']].groupby('<TICKER>').transform(lambda x: np.log(x).diff())\n",
    "fig = plt.figure(figsize = (20,10))\n",
    "sns.lineplot(x = '<DATETIME>', y = '<CLOSE_LOG>', hue = '<TICKER>', data = FX)"
   ]
  },
  {
   "cell_type": "code",
   "execution_count": null,
   "metadata": {},
   "outputs": [],
   "source": []
  }
 ],
 "metadata": {
  "kernelspec": {
   "display_name": "Python 3",
   "language": "python",
   "name": "python3"
  },
  "language_info": {
   "codemirror_mode": {
    "name": "ipython",
    "version": 3
   },
   "file_extension": ".py",
   "mimetype": "text/x-python",
   "name": "python",
   "nbconvert_exporter": "python",
   "pygments_lexer": "ipython3",
   "version": "3.7.0"
  }
 },
 "nbformat": 4,
 "nbformat_minor": 2
}
